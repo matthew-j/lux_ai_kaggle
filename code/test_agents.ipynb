{
 "cells": [
  {
   "cell_type": "code",
   "execution_count": 1,
   "id": "0e1f9736",
   "metadata": {},
   "outputs": [
    {
     "name": "stdout",
     "output_type": "stream",
     "text": [
      "Loading environment football failed: No module named 'gfootball'\n"
     ]
    }
   ],
   "source": [
    "from kaggle_environments import make\n",
    "import json"
   ]
  },
  {
   "cell_type": "code",
   "execution_count": 5,
   "id": "1b6ae6f0",
   "metadata": {
    "scrolled": true
   },
   "outputs": [
    {
     "name": "stdout",
     "output_type": "stream",
     "text": [
      "\u001b[33m[WARN]\u001b[39m (match_Dfq3ljPDTd4f) - Agent 0 tried to move unit u_2 that it does not own; turn 2; cmd: m u_2 s\n",
      "\u001b[33m[WARN]\u001b[39m (match_Dfq3ljPDTd4f) - Agent 0 tried to move unit u_2 that it does not own; turn 3; cmd: m u_2 w\n",
      "rew/r_total=5.15,rew/r_wood=0.00,rew/r_coal=0.00,rew/r_uranium=0.00,rew/r_research=0.00,rew/r_city_tiles_end=5.00,rew/r_fuel_collected=0.00,rew/r_units=0.05,rew/r_city_tiles=0.10,game/turns=0.00,game/research=1.00,game/unit_count=1.00,game/cart_count=0.00,game/city_count=1.00,game/city_tiles=1.00,game/wood_rate_mined=0.00,game/coal_rate_mined=0.00,game/uranium_rate_mined=0.00\n",
      "\u001b[33m[WARN]\u001b[39m (match_Dfq3ljPDTd4f) - Agent 0 tried to move unit u_4 that it does not own; turn 9; cmd: m u_4 e\n",
      "rew/r_total=13.30,rew/r_wood=0.00,rew/r_coal=0.00,rew/r_uranium=0.00,rew/r_research=0.00,rew/r_city_tiles_end=13.00,rew/r_fuel_collected=0.00,rew/r_units=0.10,rew/r_city_tiles=0.20,game/turns=0.00,game/research=1.00,game/unit_count=2.00,game/cart_count=0.00,game/city_count=2.00,game/city_tiles=2.00,game/wood_rate_mined=0.00,game/coal_rate_mined=0.00,game/uranium_rate_mined=0.00\n",
      "\u001b[33m[WARN]\u001b[39m (match_Dfq3ljPDTd4f) - Agent 0 tried to run research at CityTile (28, 27) that it does not own; turn 10; cmd: r 28 27\n",
      "\u001b[33m[WARN]\u001b[39m (match_Dfq3ljPDTd4f) - Agent 0 tried to move unit u_2 that it does not own; turn 10; cmd: m u_2 e\n",
      "rew/r_total=15.30,rew/r_wood=0.00,rew/r_coal=0.00,rew/r_uranium=0.00,rew/r_research=0.00,rew/r_city_tiles_end=15.00,rew/r_fuel_collected=0.00,rew/r_units=0.10,rew/r_city_tiles=0.20,game/turns=0.00,game/research=1.00,game/unit_count=2.00,game/cart_count=0.00,game/city_count=2.00,game/city_tiles=2.00,game/wood_rate_mined=0.00,game/coal_rate_mined=0.00,game/uranium_rate_mined=0.00\n",
      "\u001b[33m[WARN]\u001b[39m (match_Dfq3ljPDTd4f) - Agent 0 tried to build CityTile with invalid/unowned unit id: u_4; turn 13; cmd: bcity u_4\n",
      "rew/r_total=25.41,rew/r_wood=0.00,rew/r_coal=0.00,rew/r_uranium=0.00,rew/r_research=0.01,rew/r_city_tiles_end=25.00,rew/r_fuel_collected=0.00,rew/r_units=0.10,rew/r_city_tiles=0.30,game/turns=0.00,game/research=3.00,game/unit_count=2.00,game/cart_count=0.00,game/city_count=3.00,game/city_tiles=3.00,game/wood_rate_mined=0.00,game/coal_rate_mined=0.00,game/uranium_rate_mined=0.00\n",
      "\u001b[33m[WARN]\u001b[39m (match_Dfq3ljPDTd4f) - Agent 0 tried to move unit u_2 that it does not own; turn 16; cmd: m u_2 e\n",
      "rew/r_total=34.41,rew/r_wood=0.00,rew/r_coal=0.00,rew/r_uranium=0.00,rew/r_research=0.01,rew/r_city_tiles_end=34.00,rew/r_fuel_collected=0.00,rew/r_units=0.10,rew/r_city_tiles=0.30,game/turns=0.00,game/research=3.00,game/unit_count=2.00,game/cart_count=0.00,game/city_count=3.00,game/city_tiles=3.00,game/wood_rate_mined=0.00,game/coal_rate_mined=0.00,game/uranium_rate_mined=0.00\n",
      "\u001b[33m[WARN]\u001b[39m (match_Dfq3ljPDTd4f) - Agent 0 tried to move unit u_7 that it does not own; turn 19; cmd: m u_7 e\n",
      "rew/r_total=40.46,rew/r_wood=0.00,rew/r_coal=0.00,rew/r_uranium=0.00,rew/r_research=0.01,rew/r_city_tiles_end=40.00,rew/r_fuel_collected=0.00,rew/r_units=0.15,rew/r_city_tiles=0.30,game/turns=0.00,game/research=3.00,game/unit_count=3.00,game/cart_count=0.00,game/city_count=3.00,game/city_tiles=3.00,game/wood_rate_mined=0.00,game/coal_rate_mined=0.00,game/uranium_rate_mined=0.00\n",
      "\u001b[33m[WARN]\u001b[39m (match_Dfq3ljPDTd4f) - Agent 0 tried to build CityTile with invalid/unowned unit id: u_4; turn 21; cmd: bcity u_4\n",
      "\u001b[33m[WARN]\u001b[39m (match_Dfq3ljPDTd4f) - Agent 0 tried to build unit on tile (29, 28) that it does not own; turn 22; cmd: bw 29 28\n",
      "\u001b[33m[WARN]\u001b[39m (match_Dfq3ljPDTd4f) - Agent 0 tried to move unit u_2 that it does not own; turn 22; cmd: m u_2 e\n",
      "\u001b[33m[WARN]\u001b[39m (match_Dfq3ljPDTd4f) - Agent 0 tried to move unit u_7 that it does not own; turn 22; cmd: m u_7 n\n",
      "\u001b[33m[WARN]\u001b[39m (match_Dfq3ljPDTd4f) - Agent 0 tried to move unit u_4 that it does not own; turn 22; cmd: m u_4 w\n",
      "\u001b[33m[WARN]\u001b[39m (match_Dfq3ljPDTd4f) - Agent 0 tried to move unit u_7 that it does not own; turn 23; cmd: m u_7 n\n",
      "\u001b[33m[WARN]\u001b[39m (match_Dfq3ljPDTd4f) - Agent 0 tried to move unit u_8 that it does not own; turn 23; cmd: m u_8 n\n",
      "\u001b[33m[WARN]\u001b[39m (match_Dfq3ljPDTd4f) - Agent 0 tried to build CityTile with insufficient materials wood + coal + uranium: 80; turn 24; cmd: bcity u_6\n",
      "\u001b[33m[WARN]\u001b[39m (match_Dfq3ljPDTd4f) - Agent 0 tried to move unit u_2 that it does not own; turn 26; cmd: m u_2 e\n",
      "\u001b[33m[WARN]\u001b[39m (match_Dfq3ljPDTd4f) - Agent 0 tried to move unit u_4 that it does not own; turn 26; cmd: m u_4 w\n",
      "rew/r_total=80.06,rew/r_wood=0.00,rew/r_coal=0.00,rew/r_uranium=0.00,rew/r_research=0.01,rew/r_city_tiles_end=79.00,rew/r_fuel_collected=0.00,rew/r_units=0.25,rew/r_city_tiles=0.80,game/turns=0.00,game/research=5.00,game/unit_count=5.00,game/cart_count=0.00,game/city_count=4.00,game/city_tiles=8.00,game/wood_rate_mined=0.00,game/coal_rate_mined=0.00,game/uranium_rate_mined=0.00\n",
      "rew/r_total=98.27,rew/r_wood=0.00,rew/r_coal=0.00,rew/r_uranium=0.00,rew/r_research=0.02,rew/r_city_tiles_end=97.00,rew/r_fuel_collected=0.00,rew/r_units=0.35,rew/r_city_tiles=0.90,game/turns=0.00,game/research=7.00,game/unit_count=7.00,game/cart_count=0.00,game/city_count=4.00,game/city_tiles=9.00,game/wood_rate_mined=0.00,game/coal_rate_mined=0.00,game/uranium_rate_mined=0.00\n",
      "\u001b[33m[WARN]\u001b[39m (match_Dfq3ljPDTd4f) - Agent 0 tried to build CityTile with invalid/unowned unit id: u_7; turn 31; cmd: bcity u_7\n",
      "\u001b[33m[WARN]\u001b[39m (match_Dfq3ljPDTd4f) - Agent 0 tried to move unit u_13 that it does not own; turn 31; cmd: m u_13 e\n",
      "rew/r_total=112.02,rew/r_wood=0.00,rew/r_coal=0.00,rew/r_uranium=0.00,rew/r_research=0.02,rew/r_city_tiles_end=111.00,rew/r_fuel_collected=0.00,rew/r_units=0.30,rew/r_city_tiles=0.70,game/turns=0.00,game/research=7.00,game/unit_count=6.00,game/cart_count=0.00,game/city_count=4.00,game/city_tiles=7.00,game/wood_rate_mined=0.00,game/coal_rate_mined=0.00,game/uranium_rate_mined=0.00\n",
      "\u001b[33m[WARN]\u001b[39m (match_Dfq3ljPDTd4f) - Agent 0 tried to move unit u_4 that it does not own; turn 35; cmd: m u_4 s\n",
      "\u001b[33m[WARN]\u001b[39m (match_Dfq3ljPDTd4f) - Agent 0 tried to move unit u_8 that it does not own; turn 35; cmd: m u_8 n\n",
      "\u001b[33m[WARN]\u001b[39m (match_Dfq3ljPDTd4f) - Agent 0 tried to move unit u_7 that it does not own; turn 35; cmd: m u_7 w\n",
      "rew/r_total=170.27,rew/r_wood=0.00,rew/r_coal=0.00,rew/r_uranium=0.00,rew/r_research=0.02,rew/r_city_tiles_end=169.00,rew/r_fuel_collected=0.00,rew/r_units=0.35,rew/r_city_tiles=0.90,game/turns=0.00,game/research=9.00,game/unit_count=7.00,game/cart_count=0.00,game/city_count=4.00,game/city_tiles=9.00,game/wood_rate_mined=0.00,game/coal_rate_mined=0.00,game/uranium_rate_mined=0.00\n",
      "\u001b[33m[WARN]\u001b[39m (match_Dfq3ljPDTd4f) - Agent 0 tried to move unit u_14 that it does not own; turn 37; cmd: m u_14 s\n",
      "rew/r_total=147.07,rew/r_wood=0.00,rew/r_coal=0.00,rew/r_uranium=0.00,rew/r_research=0.02,rew/r_city_tiles_end=146.00,rew/r_fuel_collected=0.00,rew/r_units=0.35,rew/r_city_tiles=0.70,game/turns=0.00,game/research=7.00,game/unit_count=7.00,game/cart_count=0.00,game/city_count=4.00,game/city_tiles=7.00,game/wood_rate_mined=0.00,game/coal_rate_mined=0.00,game/uranium_rate_mined=0.00\n",
      "rew/r_total=154.07,rew/r_wood=0.00,rew/r_coal=0.00,rew/r_uranium=0.00,rew/r_research=0.02,rew/r_city_tiles_end=153.00,rew/r_fuel_collected=0.00,rew/r_units=0.35,rew/r_city_tiles=0.70,game/turns=0.00,game/research=7.00,game/unit_count=7.00,game/cart_count=0.00,game/city_count=4.00,game/city_tiles=7.00,game/wood_rate_mined=0.00,game/coal_rate_mined=0.00,game/uranium_rate_mined=0.00\n",
      "\u001b[33m[WARN]\u001b[39m (match_Dfq3ljPDTd4f) - Agent 0 tried to build CityTile with invalid/unowned unit id: u_7; turn 40; cmd: bcity u_7\n",
      "\u001b[33m[WARN]\u001b[39m (match_Dfq3ljPDTd4f) - Agent 1 tried to build CityTile with insufficient materials wood + coal + uranium: 96; turn 40; cmd: bcity u_7\n",
      "rew/r_total=254.68,rew/r_wood=0.00,rew/r_coal=0.00,rew/r_uranium=0.00,rew/r_research=0.03,rew/r_city_tiles_end=253.00,rew/r_fuel_collected=0.00,rew/r_units=0.35,rew/r_city_tiles=1.30,game/turns=0.00,game/research=13.00,game/unit_count=7.00,game/cart_count=0.00,game/city_count=8.00,game/city_tiles=13.00,game/wood_rate_mined=0.00,game/coal_rate_mined=0.00,game/uranium_rate_mined=0.00\n",
      "\u001b[33m[WARN]\u001b[39m (match_Dfq3ljPDTd4f) - Agent 1 tried to build CityTile with insufficient materials wood + coal + uranium: 80; turn 48; cmd: bcity u_7\n"
     ]
    },
    {
     "name": "stdout",
     "output_type": "stream",
     "text": [
      "\u001b[33m[WARN]\u001b[39m (match_Dfq3ljPDTd4f) - Agent 0 tried to build unit on tile (29, 27) that it does not own; turn 49; cmd: bw 29 27\n",
      "\u001b[33m[WARN]\u001b[39m (match_Dfq3ljPDTd4f) - Agent 0 tried to move unit u_8 that it does not own; turn 49; cmd: m u_8 w\n",
      "\u001b[33m[WARN]\u001b[39m (match_Dfq3ljPDTd4f) - Agent 0 tried to move unit u_13 that it does not own; turn 49; cmd: m u_13 n\n",
      "\u001b[33m[WARN]\u001b[39m (match_Dfq3ljPDTd4f) - Agent 0 tried to build CityTile with invalid/unowned unit id: u_7; turn 49; cmd: bcity u_7\n",
      "\u001b[33m[WARN]\u001b[39m (match_Dfq3ljPDTd4f) - Agent 0 tried to build unit on tile (26, 27) that it does not own; turn 51; cmd: bw 26 27\n",
      "\u001b[33m[WARN]\u001b[39m (match_Dfq3ljPDTd4f) - Agent 0 tried to move unit u_8 that it does not own; turn 51; cmd: m u_8 w\n",
      "\u001b[33m[WARN]\u001b[39m (match_Dfq3ljPDTd4f) - Agent 0 tried to move unit u_4 that it does not own; turn 51; cmd: m u_4 e\n",
      "\u001b[33m[WARN]\u001b[39m (match_Dfq3ljPDTd4f) - Agent 0 tried to move unit u_13 that it does not own; turn 51; cmd: m u_13 n\n",
      "\u001b[33m[WARN]\u001b[39m (match_Dfq3ljPDTd4f) - Agent 0 tried to move unit u_17 that it does not own; turn 51; cmd: m u_17 e\n",
      "\u001b[33m[WARN]\u001b[39m (match_Dfq3ljPDTd4f) - Agent 0 tried to move unit u_18 that it does not own; turn 51; cmd: m u_18 s\n",
      "\u001b[33m[WARN]\u001b[39m (match_Dfq3ljPDTd4f) - turn 51; Unit u_18 collided when trying to move w to (28, 28)\n",
      "\u001b[33m[WARN]\u001b[39m (match_Dfq3ljPDTd4f) - Agent 0 tried to move unit u_8 that it does not own; turn 53; cmd: m u_8 w\n",
      "\u001b[33m[WARN]\u001b[39m (match_Dfq3ljPDTd4f) - Agent 0 tried to move unit u_4 that it does not own; turn 53; cmd: m u_4 e\n",
      "\u001b[33m[WARN]\u001b[39m (match_Dfq3ljPDTd4f) - Agent 0 tried to build CityTile with invalid/unowned unit id: u_13; turn 53; cmd: bcity u_13\n",
      "\u001b[33m[WARN]\u001b[39m (match_Dfq3ljPDTd4f) - Agent 0 tried to move unit u_17 that it does not own; turn 53; cmd: m u_17 e\n",
      "rew/r_total=420.50,rew/r_wood=0.00,rew/r_coal=0.00,rew/r_uranium=0.00,rew/r_research=0.05,rew/r_city_tiles_end=418.00,rew/r_fuel_collected=0.00,rew/r_units=0.45,rew/r_city_tiles=2.00,game/turns=0.00,game/research=19.00,game/unit_count=9.00,game/cart_count=0.00,game/city_count=14.00,game/city_tiles=20.00,game/wood_rate_mined=0.00,game/coal_rate_mined=0.00,game/uranium_rate_mined=0.00\n",
      "\u001b[33m[WARN]\u001b[39m (match_Dfq3ljPDTd4f) - Agent 0 tried to move unit u_8 that it does not own; turn 55; cmd: m u_8 w\n",
      "\u001b[33m[WARN]\u001b[39m (match_Dfq3ljPDTd4f) - Agent 0 tried to move unit u_20 that it does not own; turn 55; cmd: m u_20 e\n",
      "\u001b[33m[WARN]\u001b[39m (match_Dfq3ljPDTd4f) - Agent 0 tried to run research at CityTile (27, 26) that it does not own; turn 57; cmd: r 27 26\n",
      "\u001b[33m[WARN]\u001b[39m (match_Dfq3ljPDTd4f) - Agent 0 tried to run research at CityTile (28, 30) that it does not own; turn 57; cmd: r 28 30\n",
      "\u001b[33m[WARN]\u001b[39m (match_Dfq3ljPDTd4f) - Agent 0 tried to move unit u_8 that it does not own; turn 57; cmd: m u_8 w\n",
      "\u001b[33m[WARN]\u001b[39m (match_Dfq3ljPDTd4f) - Agent 0 tried to move unit u_19 that it does not own; turn 57; cmd: m u_19 s\n",
      "\u001b[33m[WARN]\u001b[39m (match_Dfq3ljPDTd4f) - Agent 0 tried to move unit u_7 that it does not own; turn 57; cmd: m u_7 n\n",
      "\u001b[33m[WARN]\u001b[39m (match_Dfq3ljPDTd4f) - Agent 0 tried to move unit u_17 that it does not own; turn 57; cmd: m u_17 n\n",
      "\u001b[33m[WARN]\u001b[39m (match_Dfq3ljPDTd4f) - Agent 0 tried to move unit u_19 that it does not own; turn 58; cmd: m u_19 s\n",
      "\u001b[33m[WARN]\u001b[39m (match_Dfq3ljPDTd4f) - Agent 0 tried to move unit u_20 that it does not own; turn 58; cmd: m u_20 e\n",
      "\u001b[33m[WARN]\u001b[39m (match_Dfq3ljPDTd4f) - Agent 0 tried to move unit u_7 that it does not own; turn 58; cmd: m u_7 n\n",
      "\u001b[33m[WARN]\u001b[39m (match_Dfq3ljPDTd4f) - Agent 0 tried to run research at CityTile (29, 27) that it does not own; turn 59; cmd: r 29 27\n",
      "\u001b[33m[WARN]\u001b[39m (match_Dfq3ljPDTd4f) - Agent 0 tried to move unit u_8 that it does not own; turn 59; cmd: m u_8 w\n",
      "\u001b[33m[WARN]\u001b[39m (match_Dfq3ljPDTd4f) - Agent 0 tried to move unit u_19 that it does not own; turn 59; cmd: m u_19 s\n",
      "\u001b[33m[WARN]\u001b[39m (match_Dfq3ljPDTd4f) - Agent 0 tried to move unit u_7 that it does not own; turn 59; cmd: m u_7 n\n",
      "\u001b[33m[WARN]\u001b[39m (match_Dfq3ljPDTd4f) - Agent 0 tried to move unit u_13 that it does not own; turn 59; cmd: m u_13 w\n",
      "\u001b[33m[WARN]\u001b[39m (match_Dfq3ljPDTd4f) - Agent 0 tried to move unit u_18 that it does not own; turn 59; cmd: m u_18 n\n",
      "\u001b[33m[WARN]\u001b[39m (match_Dfq3ljPDTd4f) - Agent 0 tried to move unit u_17 that it does not own; turn 59; cmd: m u_17 w\n",
      "\u001b[33m[WARN]\u001b[39m (match_Dfq3ljPDTd4f) - Agent 0 tried to run research at CityTile (29, 28) that it does not own; turn 60; cmd: r 29 28\n",
      "\u001b[33m[WARN]\u001b[39m (match_Dfq3ljPDTd4f) - Agent 0 tried to move unit u_19 that it does not own; turn 60; cmd: m u_19 s\n",
      "\u001b[33m[WARN]\u001b[39m (match_Dfq3ljPDTd4f) - Agent 0 tried to move unit u_20 that it does not own; turn 60; cmd: m u_20 n\n",
      "\u001b[33m[WARN]\u001b[39m (match_Dfq3ljPDTd4f) - Agent 0 tried to move unit u_7 that it does not own; turn 60; cmd: m u_7 n\n",
      "\u001b[33m[WARN]\u001b[39m (match_Dfq3ljPDTd4f) - Agent 0 tried to run research at CityTile (26, 27) that it does not own; turn 61; cmd: r 26 27\n",
      "\u001b[33m[WARN]\u001b[39m (match_Dfq3ljPDTd4f) - Agent 0 tried to build CityTile with invalid/unowned unit id: u_8; turn 61; cmd: bcity u_8\n",
      "\u001b[33m[WARN]\u001b[39m (match_Dfq3ljPDTd4f) - Agent 0 tried to move unit u_4 that it does not own; turn 61; cmd: m u_4 n\n",
      "\u001b[33m[WARN]\u001b[39m (match_Dfq3ljPDTd4f) - Agent 0 tried to build CityTile with invalid/unowned unit id: u_13; turn 61; cmd: bcity u_13\n",
      "\u001b[33m[WARN]\u001b[39m (match_Dfq3ljPDTd4f) - Agent 0 tried to build CityTile with invalid/unowned unit id: u_18; turn 61; cmd: bcity u_18\n",
      "\u001b[33m[WARN]\u001b[39m (match_Dfq3ljPDTd4f) - Agent 0 tried to move unit u_17 that it does not own; turn 61; cmd: m u_17 w\n",
      "rew/r_total=452.89,rew/r_wood=0.00,rew/r_coal=0.00,rew/r_uranium=0.00,rew/r_research=0.05,rew/r_city_tiles_end=450.00,rew/r_fuel_collected=0.00,rew/r_units=0.65,rew/r_city_tiles=2.20,game/turns=0.00,game/research=18.00,game/unit_count=13.00,game/cart_count=0.00,game/city_count=13.00,game/city_tiles=22.00,game/wood_rate_mined=0.00,game/coal_rate_mined=0.00,game/uranium_rate_mined=0.00\n",
      "\u001b[33m[WARN]\u001b[39m (match_Dfq3ljPDTd4f) - Agent 0 tried to build unit on tile (21, 25) that it does not own; turn 62; cmd: bw 21 25\n",
      "\u001b[33m[WARN]\u001b[39m (match_Dfq3ljPDTd4f) - Agent 0 tried to build unit on tile (27, 29) that it does not own; turn 62; cmd: bw 27 29\n",
      "\u001b[33m[WARN]\u001b[39m (match_Dfq3ljPDTd4f) - Agent 0 tried to build unit on tile (28, 25) that it does not own; turn 62; cmd: bw 28 25\n",
      "\u001b[33m[WARN]\u001b[39m (match_Dfq3ljPDTd4f) - Agent 0 tried to run research at CityTile (30, 29) that it does not own; turn 62; cmd: r 30 29\n",
      "\u001b[33m[WARN]\u001b[39m (match_Dfq3ljPDTd4f) - Agent 0 tried to move unit u_8 that it does not own; turn 62; cmd: m u_8 n\n",
      "\u001b[33m[WARN]\u001b[39m (match_Dfq3ljPDTd4f) - Agent 0 tried to move unit u_19 that it does not own; turn 62; cmd: m u_19 s\n",
      "\u001b[33m[WARN]\u001b[39m (match_Dfq3ljPDTd4f) - Agent 0 tried to move unit u_24 that it does not own; turn 62; cmd: m u_24 s\n",
      "\u001b[33m[WARN]\u001b[39m (match_Dfq3ljPDTd4f) - Agent 0 tried to move unit u_25 that it does not own; turn 62; cmd: m u_25 e\n",
      "\u001b[33m[WARN]\u001b[39m (match_Dfq3ljPDTd4f) - Agent 0 tried to move unit u_13 that it does not own; turn 62; cmd: m u_13 e\n",
      "\u001b[33m[WARN]\u001b[39m (match_Dfq3ljPDTd4f) - Agent 0 tried to build CityTile with invalid/unowned unit id: u_20; turn 62; cmd: bcity u_20\n",
      "\u001b[33m[WARN]\u001b[39m (match_Dfq3ljPDTd4f) - Agent 0 tried to move unit u_7 that it does not own; turn 62; cmd: m u_7 n\n",
      "\u001b[33m[WARN]\u001b[39m (match_Dfq3ljPDTd4f) - Agent 0 tried to move unit u_18 that it does not own; turn 62; cmd: m u_18 e\n",
      "rew/r_total=743.38,rew/r_wood=0.00,rew/r_coal=0.00,rew/r_uranium=0.00,rew/r_research=0.08,rew/r_city_tiles_end=740.00,rew/r_fuel_collected=0.00,rew/r_units=0.80,rew/r_city_tiles=2.50,game/turns=0.00,game/research=30.00,game/unit_count=16.00,game/cart_count=0.00,game/city_count=15.00,game/city_tiles=25.00,game/wood_rate_mined=0.00,game/coal_rate_mined=0.00,game/uranium_rate_mined=0.00\n",
      "\u001b[33m[WARN]\u001b[39m (match_Dfq3ljPDTd4f) - Agent 0 tried to run research at CityTile (29, 27) that it does not own; turn 69; cmd: r 29 27\n",
      "\u001b[33m[WARN]\u001b[39m (match_Dfq3ljPDTd4f) - Agent 0 tried to move unit u_8 that it does not own; turn 69; cmd: m u_8 n\n",
      "\u001b[33m[WARN]\u001b[39m (match_Dfq3ljPDTd4f) - Agent 0 tried to move unit u_28 that it does not own; turn 69; cmd: m u_28 n\n",
      "\u001b[33m[WARN]\u001b[39m (match_Dfq3ljPDTd4f) - Agent 0 tried to move unit u_26 that it does not own; turn 69; cmd: m u_26 e\n",
      "\u001b[33m[WARN]\u001b[39m (match_Dfq3ljPDTd4f) - Agent 0 tried to move unit u_24 that it does not own; turn 69; cmd: m u_24 e\n",
      "\u001b[33m[WARN]\u001b[39m (match_Dfq3ljPDTd4f) - Agent 0 tried to move unit u_19 that it does not own; turn 69; cmd: m u_19 e\n",
      "\u001b[33m[WARN]\u001b[39m (match_Dfq3ljPDTd4f) - Agent 0 tried to build CityTile with invalid/unowned unit id: u_20; turn 69; cmd: bcity u_20\n",
      "\u001b[33m[WARN]\u001b[39m (match_Dfq3ljPDTd4f) - Agent 0 tried to move unit u_27 that it does not own; turn 69; cmd: m u_27 e\n",
      "\u001b[33m[WARN]\u001b[39m (match_Dfq3ljPDTd4f) - Agent 0 tried to move unit u_35 that it does not own; turn 69; cmd: m u_35 n\n"
     ]
    },
    {
     "name": "stdout",
     "output_type": "stream",
     "text": [
      "\u001b[33m[WARN]\u001b[39m (match_Dfq3ljPDTd4f) - Agent 0 tried to build unit on tile (29, 28) that it does not own; turn 70; cmd: bw 29 28\n",
      "\u001b[33m[WARN]\u001b[39m (match_Dfq3ljPDTd4f) - Agent 0 tried to run research at CityTile (29, 29) that it does not own; turn 70; cmd: r 29 29\n",
      "\u001b[33m[WARN]\u001b[39m (match_Dfq3ljPDTd4f) - Agent 0 tried to move unit u_4 that it does not own; turn 70; cmd: m u_4 n\n",
      "\u001b[33m[WARN]\u001b[39m (match_Dfq3ljPDTd4f) - Agent 0 tried to move unit u_25 that it does not own; turn 70; cmd: m u_25 e\n",
      "\u001b[33m[WARN]\u001b[39m (match_Dfq3ljPDTd4f) - Agent 0 tried to build CityTile with invalid/unowned unit id: u_13; turn 70; cmd: bcity u_13\n",
      "\u001b[33m[WARN]\u001b[39m (match_Dfq3ljPDTd4f) - Agent 0 tried to move unit u_30 that it does not own; turn 70; cmd: m u_30 n\n",
      "\u001b[33m[WARN]\u001b[39m (match_Dfq3ljPDTd4f) - Agent 0 tried to move unit u_17 that it does not own; turn 70; cmd: m u_17 n\n",
      "\u001b[33m[WARN]\u001b[39m (match_Dfq3ljPDTd4f) - Agent 0 tried to move unit u_18 that it does not own; turn 70; cmd: m u_18 e\n",
      "\u001b[33m[WARN]\u001b[39m (match_Dfq3ljPDTd4f) - Agent 0 tried to move unit u_7 that it does not own; turn 70; cmd: m u_7 w\n",
      "\u001b[33m[WARN]\u001b[39m (match_Dfq3ljPDTd4f) - Agent 0 tried to build unit on tile (26, 27) that it does not own; turn 71; cmd: bw 26 27\n",
      "\u001b[33m[WARN]\u001b[39m (match_Dfq3ljPDTd4f) - Agent 0 tried to move unit u_8 that it does not own; turn 71; cmd: m u_8 n\n",
      "\u001b[33m[WARN]\u001b[39m (match_Dfq3ljPDTd4f) - Agent 0 tried to build CityTile with invalid/unowned unit id: u_28; turn 71; cmd: bcity u_28\n",
      "\u001b[33m[WARN]\u001b[39m (match_Dfq3ljPDTd4f) - Agent 0 tried to move unit u_24 that it does not own; turn 71; cmd: m u_24 n\n",
      "\u001b[33m[WARN]\u001b[39m (match_Dfq3ljPDTd4f) - Agent 0 tried to move unit u_19 that it does not own; turn 71; cmd: m u_19 n\n",
      "\u001b[33m[WARN]\u001b[39m (match_Dfq3ljPDTd4f) - Agent 0 tried to build CityTile with invalid/unowned unit id: u_27; turn 71; cmd: bcity u_27\n",
      "\u001b[33m[WARN]\u001b[39m (match_Dfq3ljPDTd4f) - Agent 0 tried to run research at CityTile (21, 25) that it does not own; turn 72; cmd: r 21 25\n",
      "\u001b[33m[WARN]\u001b[39m (match_Dfq3ljPDTd4f) - Agent 0 tried to run research at CityTile (28, 25) that it does not own; turn 72; cmd: r 28 25\n",
      "\u001b[33m[WARN]\u001b[39m (match_Dfq3ljPDTd4f) - Agent 0 tried to run research at CityTile (30, 29) that it does not own; turn 72; cmd: r 30 29\n",
      "\u001b[33m[WARN]\u001b[39m (match_Dfq3ljPDTd4f) - Agent 0 tried to move unit u_34 that it does not own; turn 72; cmd: m u_34 e\n",
      "\u001b[33m[WARN]\u001b[39m (match_Dfq3ljPDTd4f) - Agent 0 tried to move unit u_36 that it does not own; turn 72; cmd: m u_36 n\n",
      "\u001b[33m[WARN]\u001b[39m (match_Dfq3ljPDTd4f) - Agent 0 tried to build CityTile with insufficient materials wood + coal + uranium: 96; turn 73; cmd: bcity u_23\n"
     ]
    },
    {
     "ename": "KeyboardInterrupt",
     "evalue": "",
     "output_type": "error",
     "traceback": [
      "\u001b[0;31m---------------------------------------------------------------------------\u001b[0m",
      "\u001b[0;31mKeyboardInterrupt\u001b[0m                         Traceback (most recent call last)",
      "\u001b[0;32m/var/folders/4z/7rrlsr756fjg6jq7c4jy9fzc0000gn/T/ipykernel_2249/4210859889.py\u001b[0m in \u001b[0;36m<module>\u001b[0;34m\u001b[0m\n\u001b[1;32m     12\u001b[0m \u001b[0;31m# steps = env.run([\"./%s/agent.py\" % agent0, \"./%s/agent.py\" % agent1])\u001b[0m\u001b[0;34m\u001b[0m\u001b[0;34m\u001b[0m\u001b[0;34m\u001b[0m\u001b[0m\n\u001b[1;32m     13\u001b[0m \u001b[0;31m# steps = env.run(['./rl_agent/main.py', './working_title/agent.py'])\u001b[0m\u001b[0;34m\u001b[0m\u001b[0;34m\u001b[0m\u001b[0;34m\u001b[0m\u001b[0m\n\u001b[0;32m---> 14\u001b[0;31m \u001b[0msteps\u001b[0m \u001b[0;34m=\u001b[0m \u001b[0menv\u001b[0m\u001b[0;34m.\u001b[0m\u001b[0mrun\u001b[0m\u001b[0;34m(\u001b[0m\u001b[0;34m[\u001b[0m\u001b[0;34m\"agent.py\"\u001b[0m\u001b[0;34m,\u001b[0m \u001b[0;34m\"agent.py\"\u001b[0m\u001b[0;34m]\u001b[0m\u001b[0;34m)\u001b[0m\u001b[0;34m\u001b[0m\u001b[0;34m\u001b[0m\u001b[0m\n\u001b[0m\u001b[1;32m     15\u001b[0m \u001b[0;31m#steps = env.run([\"./imitation_learning/agent.py\", \"./working_title/agent.py\"])\u001b[0m\u001b[0;34m\u001b[0m\u001b[0;34m\u001b[0m\u001b[0;34m\u001b[0m\u001b[0m\n\u001b[1;32m     16\u001b[0m \u001b[0;31m# steps = env.run([\"./rl_agent/main.py\", \"./rl_agent/main.py\"])\u001b[0m\u001b[0;34m\u001b[0m\u001b[0;34m\u001b[0m\u001b[0;34m\u001b[0m\u001b[0m\n",
      "\u001b[0;32m/opt/anaconda3/lib/python3.7/site-packages/kaggle_environments/core.py\u001b[0m in \u001b[0;36mrun\u001b[0;34m(self, agents)\u001b[0m\n\u001b[1;32m    232\u001b[0m         \u001b[0mstart\u001b[0m \u001b[0;34m=\u001b[0m \u001b[0mperf_counter\u001b[0m\u001b[0;34m(\u001b[0m\u001b[0;34m)\u001b[0m\u001b[0;34m\u001b[0m\u001b[0;34m\u001b[0m\u001b[0m\n\u001b[1;32m    233\u001b[0m         \u001b[0;32mwhile\u001b[0m \u001b[0;32mnot\u001b[0m \u001b[0mself\u001b[0m\u001b[0;34m.\u001b[0m\u001b[0mdone\u001b[0m \u001b[0;32mand\u001b[0m \u001b[0mperf_counter\u001b[0m\u001b[0;34m(\u001b[0m\u001b[0;34m)\u001b[0m \u001b[0;34m-\u001b[0m \u001b[0mstart\u001b[0m \u001b[0;34m<\u001b[0m \u001b[0mself\u001b[0m\u001b[0;34m.\u001b[0m\u001b[0mconfiguration\u001b[0m\u001b[0;34m.\u001b[0m\u001b[0mrunTimeout\u001b[0m\u001b[0;34m:\u001b[0m\u001b[0;34m\u001b[0m\u001b[0;34m\u001b[0m\u001b[0m\n\u001b[0;32m--> 234\u001b[0;31m             \u001b[0mactions\u001b[0m\u001b[0;34m,\u001b[0m \u001b[0mlogs\u001b[0m \u001b[0;34m=\u001b[0m \u001b[0mrunner\u001b[0m\u001b[0;34m.\u001b[0m\u001b[0mact\u001b[0m\u001b[0;34m(\u001b[0m\u001b[0;34m)\u001b[0m\u001b[0;34m\u001b[0m\u001b[0;34m\u001b[0m\u001b[0m\n\u001b[0m\u001b[1;32m    235\u001b[0m             \u001b[0mself\u001b[0m\u001b[0;34m.\u001b[0m\u001b[0mstep\u001b[0m\u001b[0;34m(\u001b[0m\u001b[0mactions\u001b[0m\u001b[0;34m,\u001b[0m \u001b[0mlogs\u001b[0m\u001b[0;34m)\u001b[0m\u001b[0;34m\u001b[0m\u001b[0;34m\u001b[0m\u001b[0m\n\u001b[1;32m    236\u001b[0m         \u001b[0;32mreturn\u001b[0m \u001b[0mself\u001b[0m\u001b[0;34m.\u001b[0m\u001b[0msteps\u001b[0m\u001b[0;34m\u001b[0m\u001b[0;34m\u001b[0m\u001b[0m\n",
      "\u001b[0;32m/opt/anaconda3/lib/python3.7/site-packages/kaggle_environments/core.py\u001b[0m in \u001b[0;36mact\u001b[0;34m(none_action)\u001b[0m\n\u001b[1;32m    643\u001b[0m                 \u001b[0mresults\u001b[0m \u001b[0;34m=\u001b[0m \u001b[0mself\u001b[0m\u001b[0;34m.\u001b[0m\u001b[0mpool\u001b[0m\u001b[0;34m.\u001b[0m\u001b[0mmap\u001b[0m\u001b[0;34m(\u001b[0m\u001b[0mact_agent\u001b[0m\u001b[0;34m,\u001b[0m \u001b[0mact_args\u001b[0m\u001b[0;34m)\u001b[0m\u001b[0;34m\u001b[0m\u001b[0;34m\u001b[0m\u001b[0m\n\u001b[1;32m    644\u001b[0m             \u001b[0;32melse\u001b[0m\u001b[0;34m:\u001b[0m\u001b[0;34m\u001b[0m\u001b[0;34m\u001b[0m\u001b[0m\n\u001b[0;32m--> 645\u001b[0;31m                 \u001b[0mresults\u001b[0m \u001b[0;34m=\u001b[0m \u001b[0mlist\u001b[0m\u001b[0;34m(\u001b[0m\u001b[0mmap\u001b[0m\u001b[0;34m(\u001b[0m\u001b[0mact_agent\u001b[0m\u001b[0;34m,\u001b[0m \u001b[0mact_args\u001b[0m\u001b[0;34m)\u001b[0m\u001b[0;34m)\u001b[0m\u001b[0;34m\u001b[0m\u001b[0;34m\u001b[0m\u001b[0m\n\u001b[0m\u001b[1;32m    646\u001b[0m \u001b[0;34m\u001b[0m\u001b[0m\n\u001b[1;32m    647\u001b[0m             \u001b[0;31m# results is a list of tuples where the first element is an agent action and the second is the agent log\u001b[0m\u001b[0;34m\u001b[0m\u001b[0;34m\u001b[0m\u001b[0;34m\u001b[0m\u001b[0m\n",
      "\u001b[0;32m/opt/anaconda3/lib/python3.7/site-packages/kaggle_environments/core.py\u001b[0m in \u001b[0;36mact_agent\u001b[0;34m(args)\u001b[0m\n\u001b[1;32m     99\u001b[0m         \u001b[0;32mreturn\u001b[0m \u001b[0mnone_action\u001b[0m\u001b[0;34m,\u001b[0m \u001b[0;34m{\u001b[0m\u001b[0;34m}\u001b[0m\u001b[0;34m\u001b[0m\u001b[0;34m\u001b[0m\u001b[0m\n\u001b[1;32m    100\u001b[0m     \u001b[0;32melse\u001b[0m\u001b[0;34m:\u001b[0m\u001b[0;34m\u001b[0m\u001b[0;34m\u001b[0m\u001b[0m\n\u001b[0;32m--> 101\u001b[0;31m         \u001b[0;32mreturn\u001b[0m \u001b[0magent\u001b[0m\u001b[0;34m.\u001b[0m\u001b[0mact\u001b[0m\u001b[0;34m(\u001b[0m\u001b[0mstate\u001b[0m\u001b[0;34m[\u001b[0m\u001b[0;34m\"observation\"\u001b[0m\u001b[0;34m]\u001b[0m\u001b[0;34m)\u001b[0m\u001b[0;34m\u001b[0m\u001b[0;34m\u001b[0m\u001b[0m\n\u001b[0m\u001b[1;32m    102\u001b[0m \u001b[0;34m\u001b[0m\u001b[0m\n\u001b[1;32m    103\u001b[0m \u001b[0;34m\u001b[0m\u001b[0m\n",
      "\u001b[0;32m/opt/anaconda3/lib/python3.7/site-packages/kaggle_environments/agent.py\u001b[0m in \u001b[0;36mact\u001b[0;34m(self, observation)\u001b[0m\n\u001b[1;32m    155\u001b[0m             \u001b[0;32mtry\u001b[0m\u001b[0;34m:\u001b[0m\u001b[0;34m\u001b[0m\u001b[0;34m\u001b[0m\u001b[0m\n\u001b[1;32m    156\u001b[0m                 \u001b[0mstart\u001b[0m \u001b[0;34m=\u001b[0m \u001b[0mperf_counter\u001b[0m\u001b[0;34m(\u001b[0m\u001b[0;34m)\u001b[0m\u001b[0;34m\u001b[0m\u001b[0;34m\u001b[0m\u001b[0m\n\u001b[0;32m--> 157\u001b[0;31m                 \u001b[0maction\u001b[0m \u001b[0;34m=\u001b[0m \u001b[0mself\u001b[0m\u001b[0;34m.\u001b[0m\u001b[0magent\u001b[0m\u001b[0;34m(\u001b[0m\u001b[0;34m*\u001b[0m\u001b[0margs\u001b[0m\u001b[0;34m)\u001b[0m\u001b[0;34m\u001b[0m\u001b[0;34m\u001b[0m\u001b[0m\n\u001b[0m\u001b[1;32m    158\u001b[0m             \u001b[0;32mexcept\u001b[0m \u001b[0mException\u001b[0m \u001b[0;32mas\u001b[0m \u001b[0me\u001b[0m\u001b[0;34m:\u001b[0m\u001b[0;34m\u001b[0m\u001b[0;34m\u001b[0m\u001b[0m\n\u001b[1;32m    159\u001b[0m                 \u001b[0mtraceback\u001b[0m\u001b[0;34m.\u001b[0m\u001b[0mprint_exc\u001b[0m\u001b[0;34m(\u001b[0m\u001b[0mfile\u001b[0m\u001b[0;34m=\u001b[0m\u001b[0merr_buffer\u001b[0m\u001b[0;34m)\u001b[0m\u001b[0;34m\u001b[0m\u001b[0;34m\u001b[0m\u001b[0m\n",
      "\u001b[0;32m/opt/anaconda3/lib/python3.7/site-packages/kaggle_environments/agent.py\u001b[0m in \u001b[0;36mcallable_agent\u001b[0;34m(observation, configuration)\u001b[0m\n\u001b[1;32m    127\u001b[0m         \u001b[0;32mreturn\u001b[0m\u001b[0;31m \u001b[0m\u001b[0;31m\\\u001b[0m\u001b[0;34m\u001b[0m\u001b[0;34m\u001b[0m\u001b[0m\n\u001b[1;32m    128\u001b[0m             \u001b[0magent\u001b[0m\u001b[0;34m(\u001b[0m\u001b[0;34m*\u001b[0m\u001b[0margs\u001b[0m\u001b[0;34m)\u001b[0m\u001b[0;31m \u001b[0m\u001b[0;31m\\\u001b[0m\u001b[0;34m\u001b[0m\u001b[0;34m\u001b[0m\u001b[0m\n\u001b[0;32m--> 129\u001b[0;31m             \u001b[0;32mif\u001b[0m \u001b[0mcallable\u001b[0m\u001b[0;34m(\u001b[0m\u001b[0magent\u001b[0m\u001b[0;34m)\u001b[0m\u001b[0;31m \u001b[0m\u001b[0;31m\\\u001b[0m\u001b[0;34m\u001b[0m\u001b[0;34m\u001b[0m\u001b[0m\n\u001b[0m\u001b[1;32m    130\u001b[0m             \u001b[0;32melse\u001b[0m \u001b[0magent\u001b[0m\u001b[0;34m\u001b[0m\u001b[0;34m\u001b[0m\u001b[0m\n\u001b[1;32m    131\u001b[0m \u001b[0;34m\u001b[0m\u001b[0m\n",
      "\u001b[0;32m~/code/lux_ai_kaggle/code/agent.py\u001b[0m in \u001b[0;36magent\u001b[0;34m(observation, configuration)\u001b[0m\n\u001b[1;32m    248\u001b[0m     \u001b[0;31m### AI Code goes down here! ###\u001b[0m\u001b[0;34m\u001b[0m\u001b[0;34m\u001b[0m\u001b[0;34m\u001b[0m\u001b[0m\n\u001b[1;32m    249\u001b[0m     \u001b[0;31m# player = observation.player\u001b[0m\u001b[0;34m\u001b[0m\u001b[0;34m\u001b[0m\u001b[0;34m\u001b[0m\u001b[0m\n\u001b[0;32m--> 250\u001b[0;31m     \u001b[0mactions\u001b[0m \u001b[0;34m=\u001b[0m \u001b[0mmeta_bot\u001b[0m\u001b[0;34m.\u001b[0m\u001b[0mrun\u001b[0m\u001b[0;34m(\u001b[0m\u001b[0mobservation\u001b[0m\u001b[0;34m)\u001b[0m\u001b[0;34m\u001b[0m\u001b[0;34m\u001b[0m\u001b[0m\n\u001b[0m\u001b[1;32m    251\u001b[0m \u001b[0;34m\u001b[0m\u001b[0m\n\u001b[1;32m    252\u001b[0m     \u001b[0;32mreturn\u001b[0m \u001b[0mactions\u001b[0m\u001b[0;34m\u001b[0m\u001b[0;34m\u001b[0m\u001b[0m\n",
      "\u001b[0;32m~/code/lux_ai_kaggle/code/agent.py\u001b[0m in \u001b[0;36mrun\u001b[0;34m(self, observation)\u001b[0m\n\u001b[1;32m    174\u001b[0m         \u001b[0;31m# get actions from chosen expert\u001b[0m\u001b[0;34m\u001b[0m\u001b[0;34m\u001b[0m\u001b[0;34m\u001b[0m\u001b[0m\n\u001b[1;32m    175\u001b[0m         \u001b[0;32mfor\u001b[0m \u001b[0mi\u001b[0m\u001b[0;34m,\u001b[0m \u001b[0mexp\u001b[0m \u001b[0;32min\u001b[0m \u001b[0menumerate\u001b[0m\u001b[0;34m(\u001b[0m\u001b[0mself\u001b[0m\u001b[0;34m.\u001b[0m\u001b[0mexperts\u001b[0m\u001b[0;34m)\u001b[0m\u001b[0;34m:\u001b[0m\u001b[0;34m\u001b[0m\u001b[0;34m\u001b[0m\u001b[0m\n\u001b[0;32m--> 176\u001b[0;31m             \u001b[0mself\u001b[0m\u001b[0;34m.\u001b[0m\u001b[0mall_actions\u001b[0m\u001b[0;34m.\u001b[0m\u001b[0mappend\u001b[0m\u001b[0;34m(\u001b[0m\u001b[0mexp\u001b[0m\u001b[0;34m(\u001b[0m\u001b[0mobservation\u001b[0m\u001b[0;34m,\u001b[0m \u001b[0;32mNone\u001b[0m\u001b[0;34m,\u001b[0m \u001b[0mcalc_actions\u001b[0m\u001b[0;34m=\u001b[0m\u001b[0;32mTrue\u001b[0m\u001b[0;34m)\u001b[0m\u001b[0;34m)\u001b[0m\u001b[0;34m\u001b[0m\u001b[0;34m\u001b[0m\u001b[0m\n\u001b[0m\u001b[1;32m    177\u001b[0m \u001b[0;34m\u001b[0m\u001b[0m\n\u001b[1;32m    178\u001b[0m         \u001b[0;32mreturn\u001b[0m\u001b[0;34m(\u001b[0m\u001b[0mself\u001b[0m\u001b[0;34m.\u001b[0m\u001b[0mall_actions\u001b[0m\u001b[0;34m[\u001b[0m\u001b[0mself\u001b[0m\u001b[0;34m.\u001b[0m\u001b[0mplayed_arm\u001b[0m\u001b[0;34m]\u001b[0m\u001b[0;34m)\u001b[0m\u001b[0;34m\u001b[0m\u001b[0;34m\u001b[0m\u001b[0m\n",
      "\u001b[0;32m~/code/lux_ai_kaggle/code/working_title/agent.py\u001b[0m in \u001b[0;36magent\u001b[0;34m(***failed resolving arguments***)\u001b[0m\n\u001b[1;32m     76\u001b[0m \u001b[0;34m\u001b[0m\u001b[0m\n\u001b[1;32m     77\u001b[0m     \u001b[0mgame_state\u001b[0m\u001b[0;34m.\u001b[0m\u001b[0mcompute_start_time\u001b[0m \u001b[0;34m=\u001b[0m \u001b[0mtime\u001b[0m\u001b[0;34m.\u001b[0m\u001b[0mtime\u001b[0m\u001b[0;34m(\u001b[0m\u001b[0;34m)\u001b[0m\u001b[0;34m\u001b[0m\u001b[0;34m\u001b[0m\u001b[0m\n\u001b[0;32m---> 78\u001b[0;31m     \u001b[0mactions\u001b[0m\u001b[0;34m,\u001b[0m \u001b[0mgame_state\u001b[0m\u001b[0;34m,\u001b[0m \u001b[0mmissions\u001b[0m \u001b[0;34m=\u001b[0m \u001b[0mgame_logic\u001b[0m\u001b[0;34m(\u001b[0m\u001b[0mgame_state\u001b[0m\u001b[0;34m,\u001b[0m \u001b[0mmissions\u001b[0m\u001b[0;34m,\u001b[0m \u001b[0mcalc_actions\u001b[0m\u001b[0;34m,\u001b[0m \u001b[0mannotations\u001b[0m\u001b[0;34m=\u001b[0m\u001b[0;32mFalse\u001b[0m\u001b[0;34m)\u001b[0m\u001b[0;34m\u001b[0m\u001b[0;34m\u001b[0m\u001b[0m\n\u001b[0m\u001b[1;32m     79\u001b[0m     \u001b[0;32mreturn\u001b[0m \u001b[0mactions\u001b[0m\u001b[0;34m\u001b[0m\u001b[0;34m\u001b[0m\u001b[0m\n",
      "\u001b[0;32m~/code/lux_ai_kaggle/code/working_title/agent.py\u001b[0m in \u001b[0;36mgame_logic\u001b[0;34m(game_state, missions, calc_actions, annotations, DEBUG)\u001b[0m\n\u001b[1;32m     25\u001b[0m     \u001b[0;32melse\u001b[0m\u001b[0;34m:\u001b[0m \u001b[0mprint\u001b[0m \u001b[0;34m=\u001b[0m \u001b[0;32mlambda\u001b[0m \u001b[0;34m*\u001b[0m\u001b[0margs\u001b[0m\u001b[0;34m:\u001b[0m \u001b[0;32mNone\u001b[0m\u001b[0;34m\u001b[0m\u001b[0;34m\u001b[0m\u001b[0m\n\u001b[1;32m     26\u001b[0m \u001b[0;34m\u001b[0m\u001b[0m\n\u001b[0;32m---> 27\u001b[0;31m     \u001b[0mgame_state\u001b[0m\u001b[0;34m.\u001b[0m\u001b[0mcalculate_features\u001b[0m\u001b[0;34m(\u001b[0m\u001b[0mmissions\u001b[0m\u001b[0;34m)\u001b[0m \u001b[0;31m# updates game state\u001b[0m\u001b[0;34m\u001b[0m\u001b[0;34m\u001b[0m\u001b[0m\n\u001b[0m\u001b[1;32m     28\u001b[0m     \u001b[0;32mif\u001b[0m \u001b[0;32mnot\u001b[0m \u001b[0mcalc_actions\u001b[0m\u001b[0;34m:\u001b[0m\u001b[0;34m\u001b[0m\u001b[0;34m\u001b[0m\u001b[0m\n\u001b[1;32m     29\u001b[0m         \u001b[0;32mreturn\u001b[0m\u001b[0;34m(\u001b[0m\u001b[0;32mNone\u001b[0m\u001b[0;34m,\u001b[0m \u001b[0mgame_state\u001b[0m\u001b[0;34m,\u001b[0m \u001b[0mmissions\u001b[0m\u001b[0;34m)\u001b[0m\u001b[0;34m\u001b[0m\u001b[0;34m\u001b[0m\u001b[0m\n",
      "\u001b[0;32m~/code/lux_ai_kaggle/code/working_title/lux_wt/game.py\u001b[0m in \u001b[0;36mcalculate_features\u001b[0;34m(self, missions)\u001b[0m\n\u001b[1;32m    309\u001b[0m         \u001b[0mself\u001b[0m\u001b[0;34m.\u001b[0m\u001b[0mcalculate_resource_matrix\u001b[0m\u001b[0;34m(\u001b[0m\u001b[0;34m)\u001b[0m\u001b[0;34m\u001b[0m\u001b[0;34m\u001b[0m\u001b[0m\n\u001b[1;32m    310\u001b[0m         \u001b[0mself\u001b[0m\u001b[0;34m.\u001b[0m\u001b[0mcalculate_resource_groups\u001b[0m\u001b[0;34m(\u001b[0m\u001b[0;34m)\u001b[0m\u001b[0;34m\u001b[0m\u001b[0;34m\u001b[0m\u001b[0m\n\u001b[0;32m--> 311\u001b[0;31m         \u001b[0mself\u001b[0m\u001b[0;34m.\u001b[0m\u001b[0mcalculate_distance_matrix\u001b[0m\u001b[0;34m(\u001b[0m\u001b[0;34m)\u001b[0m\u001b[0;34m\u001b[0m\u001b[0;34m\u001b[0m\u001b[0m\n\u001b[0m\u001b[1;32m    312\u001b[0m \u001b[0;34m\u001b[0m\u001b[0m\n\u001b[1;32m    313\u001b[0m         \u001b[0mself\u001b[0m\u001b[0;34m.\u001b[0m\u001b[0mrepopulate_targets\u001b[0m\u001b[0;34m(\u001b[0m\u001b[0mmissions\u001b[0m\u001b[0;34m)\u001b[0m\u001b[0;34m\u001b[0m\u001b[0;34m\u001b[0m\u001b[0m\n",
      "\u001b[0;32m~/code/lux_ai_kaggle/code/working_title/lux_wt/game.py\u001b[0m in \u001b[0;36mcalculate_distance_matrix\u001b[0;34m(self, blockade_multiplier_value)\u001b[0m\n\u001b[1;32m    515\u001b[0m                 \u001b[0md4\u001b[0m \u001b[0;34m=\u001b[0m \u001b[0;34m[\u001b[0m\u001b[0;34m(\u001b[0m\u001b[0;36m1\u001b[0m\u001b[0;34m,\u001b[0m\u001b[0;36m0\u001b[0m\u001b[0;34m)\u001b[0m\u001b[0;34m,\u001b[0m\u001b[0;34m(\u001b[0m\u001b[0;36m0\u001b[0m\u001b[0;34m,\u001b[0m\u001b[0;36m1\u001b[0m\u001b[0;34m)\u001b[0m\u001b[0;34m,\u001b[0m\u001b[0;34m(\u001b[0m\u001b[0;34m-\u001b[0m\u001b[0;36m1\u001b[0m\u001b[0;34m,\u001b[0m\u001b[0;36m0\u001b[0m\u001b[0;34m)\u001b[0m\u001b[0;34m,\u001b[0m\u001b[0;34m(\u001b[0m\u001b[0;36m0\u001b[0m\u001b[0;34m,\u001b[0m\u001b[0;34m-\u001b[0m\u001b[0;36m1\u001b[0m\u001b[0;34m)\u001b[0m\u001b[0;34m]\u001b[0m\u001b[0;34m\u001b[0m\u001b[0;34m\u001b[0m\u001b[0m\n\u001b[1;32m    516\u001b[0m                 \u001b[0mheap\u001b[0m \u001b[0;34m=\u001b[0m \u001b[0;34m[\u001b[0m\u001b[0;34m(\u001b[0m\u001b[0;36m0\u001b[0m\u001b[0;34m,\u001b[0m \u001b[0mstart_pos\u001b[0m\u001b[0;34m)\u001b[0m\u001b[0;34m,\u001b[0m\u001b[0;34m]\u001b[0m\u001b[0;34m\u001b[0m\u001b[0;34m\u001b[0m\u001b[0m\n\u001b[0;32m--> 517\u001b[0;31m                 \u001b[0;32mwhile\u001b[0m \u001b[0mheap\u001b[0m\u001b[0;34m:\u001b[0m\u001b[0;34m\u001b[0m\u001b[0;34m\u001b[0m\u001b[0m\n\u001b[0m\u001b[1;32m    518\u001b[0m                     \u001b[0mcurdist\u001b[0m\u001b[0;34m,\u001b[0m \u001b[0;34m(\u001b[0m\u001b[0mx\u001b[0m\u001b[0;34m,\u001b[0m\u001b[0my\u001b[0m\u001b[0;34m)\u001b[0m \u001b[0;34m=\u001b[0m \u001b[0mheapq\u001b[0m\u001b[0;34m.\u001b[0m\u001b[0mheappop\u001b[0m\u001b[0;34m(\u001b[0m\u001b[0mheap\u001b[0m\u001b[0;34m)\u001b[0m\u001b[0;34m\u001b[0m\u001b[0;34m\u001b[0m\u001b[0m\n\u001b[1;32m    519\u001b[0m                     \u001b[0;32mif\u001b[0m \u001b[0;34m(\u001b[0m\u001b[0mx\u001b[0m\u001b[0;34m,\u001b[0m\u001b[0my\u001b[0m\u001b[0;34m)\u001b[0m \u001b[0;32min\u001b[0m \u001b[0mxy_processed\u001b[0m\u001b[0;34m:\u001b[0m\u001b[0;34m\u001b[0m\u001b[0;34m\u001b[0m\u001b[0m\n",
      "\u001b[0;31mKeyboardInterrupt\u001b[0m: "
     ]
    }
   ],
   "source": [
    "# 12x12: seed 562124211\n",
    "# 32x32: seed 562124210\n",
    "# 'episodeSteps':5\n",
    "env = make(\"lux_ai_2021\", configuration={\"seed\": 562124210, \"loglevel\": 2, \"annotations\": True}, debug=True)\n",
    "\n",
    "\n",
    "# run a match between two agents\n",
    "# current agents: simple, do_nothing, working_title, imitation_learning\n",
    "agent0 = 'working_title'\n",
    "agent1 = 'imitation_learning'\n",
    "\n",
    "# steps = env.run([\"./%s/agent.py\" % agent0, \"./%s/agent.py\" % agent1])\n",
    "# steps = env.run(['./rl_agent/main.py', './working_title/agent.py'])\n",
    "steps = env.run([\"agent.py\", \"agent.py\"])\n",
    "#steps = env.run([\"./imitation_learning/agent.py\", \"./working_title/agent.py\"])\n",
    "# steps = env.run([\"./rl_agent/main.py\", \"./rl_agent/main.py\"])"
   ]
  },
  {
   "cell_type": "code",
   "execution_count": null,
   "id": "cc9f9b6e",
   "metadata": {
    "scrolled": false
   },
   "outputs": [],
   "source": [
    "\n",
    "env.render(mode=\"ipython\", width=980, height=800)"
   ]
  },
  {
   "cell_type": "code",
   "execution_count": 10,
   "id": "234a8c4c",
   "metadata": {},
   "outputs": [
    {
     "data": {
      "text/plain": [
       "<matplotlib.legend.Legend at 0x20b539afbe0>"
      ]
     },
     "execution_count": 10,
     "metadata": {},
     "output_type": "execute_result"
    },
    {
     "data": {
      "image/png": "[encoded data removed]",
      "text/plain": [
       "<Figure size 1080x1080 with 1 Axes>"
      ]
     },
     "metadata": {
      "needs_background": "light"
     },
     "output_type": "display_data"
    }
   ],
   "source": [
    "import pandas as pd\n",
    "import matplotlib.pyplot as plt\n",
    "df = pd.read_csv('chosen_agent.log', names=['agent', 'raw_reward', 'scaled_reward'], skiprows=2)\n",
    "\n",
    "color_dict = {2:['red', 'blue'],\n",
    "              3:['red', 'blue', 'green'],\n",
    "              4:['red', 'blue', 'green', 'orange'],\n",
    "              5:['red', 'blue', 'green', 'orange', 'yellow']}\n",
    "\n",
    "colors = color_dict[df['agent'].nunique()]\n",
    "\n",
    "\n",
    "plt.figure(figsize=(15,15))\n",
    "for (name, group), color in zip(df.groupby(['agent']), colors):\n",
    "    plt.scatter(group.index, group['raw_reward'], s=1, c=color, label=name)\n",
    "plt.legend()\n"
   ]
  },
  {
   "cell_type": "code",
   "execution_count": 8,
   "id": "f98f1806",
   "metadata": {},
   "outputs": [
    {
     "data": {
      "text/html": [
       "<div>\n",
       "<style scoped>\n",
       "    .dataframe tbody tr th:only-of-type {\n",
       "        vertical-align: middle;\n",
       "    }\n",
       "\n",
       "    .dataframe tbody tr th {\n",
       "        vertical-align: top;\n",
       "    }\n",
       "\n",
       "    .dataframe thead th {\n",
       "        text-align: right;\n",
       "    }\n",
       "</style>\n",
       "<table border=\"1\" class=\"dataframe\">\n",
       "  <thead>\n",
       "    <tr style=\"text-align: right;\">\n",
       "      <th></th>\n",
       "      <th>agent</th>\n",
       "      <th>raw_reward</th>\n",
       "      <th>scaled_reward</th>\n",
       "    </tr>\n",
       "  </thead>\n",
       "  <tbody>\n",
       "    <tr>\n",
       "      <th>0</th>\n",
       "      <td>imitation_learning</td>\n",
       "      <td>working_title</td>\n",
       "      <td>kaban</td>\n",
       "    </tr>\n",
       "    <tr>\n",
       "      <th>1</th>\n",
       "      <td>working_title</td>\n",
       "      <td>1.1525</td>\n",
       "      <td>0.002305</td>\n",
       "    </tr>\n",
       "    <tr>\n",
       "      <th>2</th>\n",
       "      <td>imitation_learning</td>\n",
       "      <td>1.0</td>\n",
       "      <td>0.002</td>\n",
       "    </tr>\n",
       "    <tr>\n",
       "      <th>3</th>\n",
       "      <td>kaban</td>\n",
       "      <td>1.0</td>\n",
       "      <td>0.002</td>\n",
       "    </tr>\n",
       "    <tr>\n",
       "      <th>4</th>\n",
       "      <td>working_title</td>\n",
       "      <td>1.0</td>\n",
       "      <td>0.002</td>\n",
       "    </tr>\n",
       "    <tr>\n",
       "      <th>...</th>\n",
       "      <td>...</td>\n",
       "      <td>...</td>\n",
       "      <td>...</td>\n",
       "    </tr>\n",
       "    <tr>\n",
       "      <th>355</th>\n",
       "      <td>working_title</td>\n",
       "      <td>192.0</td>\n",
       "      <td>0.384</td>\n",
       "    </tr>\n",
       "    <tr>\n",
       "      <th>356</th>\n",
       "      <td>working_title</td>\n",
       "      <td>192.0</td>\n",
       "      <td>0.384</td>\n",
       "    </tr>\n",
       "    <tr>\n",
       "      <th>357</th>\n",
       "      <td>imitation_learning</td>\n",
       "      <td>192.0</td>\n",
       "      <td>0.384</td>\n",
       "    </tr>\n",
       "    <tr>\n",
       "      <th>358</th>\n",
       "      <td>imitation_learning</td>\n",
       "      <td>192.0</td>\n",
       "      <td>0.384</td>\n",
       "    </tr>\n",
       "    <tr>\n",
       "      <th>359</th>\n",
       "      <td>working_title</td>\n",
       "      <td>192.0</td>\n",
       "      <td>0.384</td>\n",
       "    </tr>\n",
       "  </tbody>\n",
       "</table>\n",
       "<p>360 rows × 3 columns</p>\n",
       "</div>"
      ],
      "text/plain": [
       "                  agent     raw_reward scaled_reward\n",
       "0    imitation_learning  working_title         kaban\n",
       "1         working_title         1.1525      0.002305\n",
       "2    imitation_learning            1.0         0.002\n",
       "3                 kaban            1.0         0.002\n",
       "4         working_title            1.0         0.002\n",
       "..                  ...            ...           ...\n",
       "355       working_title          192.0         0.384\n",
       "356       working_title          192.0         0.384\n",
       "357  imitation_learning          192.0         0.384\n",
       "358  imitation_learning          192.0         0.384\n",
       "359       working_title          192.0         0.384\n",
       "\n",
       "[360 rows x 3 columns]"
      ]
     },
     "execution_count": 8,
     "metadata": {},
     "output_type": "execute_result"
    }
   ],
   "source": [
    "df"
   ]
  },
  {
   "cell_type": "code",
   "execution_count": 17,
   "id": "e00f3bf5",
   "metadata": {},
   "outputs": [
    {
     "name": "stdout",
     "output_type": "stream",
     "text": [
      "Online learning algo:  EXP4\n",
      "Agents:  imitation_learning,working_title,kaban\n",
      "\n",
      "Value counts:\n",
      "working_title         131\n",
      "imitation_learning    114\n",
      "kaban                 114\n",
      "Name: agent, dtype: int64\n",
      "Max raw reward:  192.8\n"
     ]
    }
   ],
   "source": [
    "with open('chosen_agent.log', 'r') as f:\n",
    "    algo = f.readline().rstrip()\n",
    "    agents = f.readline().rstrip()\n",
    "print('Online learning algo: ', algo)\n",
    "print('Agents: ', agents)\n",
    "print('\\nValue counts:')\n",
    "print(df['agent'].value_counts())\n",
    "print('Max raw reward: ', df['raw_reward'].max())"
   ]
  },
  {
   "cell_type": "code",
   "execution_count": null,
   "id": "2bd9a007",
   "metadata": {},
   "outputs": [],
   "source": [
    "%debug"
   ]
  },
  {
   "cell_type": "code",
   "execution_count": null,
   "id": "3fd4f82f",
   "metadata": {},
   "outputs": [],
   "source": [
    "raise"
   ]
  },
  {
   "cell_type": "code",
   "execution_count": null,
   "id": "710946d4",
   "metadata": {},
   "outputs": [],
   "source": [
    "# save replay\n",
    "replay = env.toJSON()\n",
    "with open(\"replay.json\", \"w\") as f:\n",
    "    json.dump(replay, f)"
   ]
  },
  {
   "cell_type": "code",
   "execution_count": null,
   "id": "e9505f9c",
   "metadata": {},
   "outputs": [],
   "source": []
  },
  {
   "cell_type": "code",
   "execution_count": null,
   "id": "39eed02a",
   "metadata": {
    "scrolled": true
   },
   "outputs": [],
   "source": [
    "# to create .tar.gz submission (edit first line to cd into folder/agent to submit):\n",
    "\n",
    "!tar -czf submission.tar.gz main.py agent.py reward.py rl_agent imitation_learning working_title kaban __init__.py"
   ]
  }
 ],
 "metadata": {
  "kernelspec": {
   "display_name": "Python 3 (ipykernel)",
   "language": "python",
   "name": "python3"
  },
  "language_info": {
   "codemirror_mode": {
    "name": "ipython",
    "version": 3
   },
   "file_extension": ".py",
   "mimetype": "text/x-python",
   "name": "python",
   "nbconvert_exporter": "python",
   "pygments_lexer": "ipython3",
   "version": "3.7.11"
  }
 },
 "nbformat": 4,
 "nbformat_minor": 5
}
